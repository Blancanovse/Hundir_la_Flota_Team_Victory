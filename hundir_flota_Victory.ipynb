{
 "cells": [
  {
   "cell_type": "markdown",
   "metadata": {},
   "source": [
    "# Importaciones"
   ]
  },
  {
   "cell_type": "code",
   "execution_count": 1,
   "metadata": {},
   "outputs": [],
   "source": [
    "import numpy as np\n",
    "import random"
   ]
  },
  {
   "cell_type": "markdown",
   "metadata": {},
   "source": [
    "# Constantes"
   ]
  },
  {
   "cell_type": "code",
   "execution_count": 2,
   "metadata": {},
   "outputs": [],
   "source": [
    "## Aspecto tablero\n",
    "disparo_fallado = \"-\"\n",
    "disparo_acertado = \"*\"\n",
    "mar = \" \"\n",
    "\n",
    "## Vidas\n",
    "num_vidas_h = 20\n",
    "num_vidas_m = 20\n",
    "\n",
    "regla_juego = \"\"\"En este juego, jugarás contra la máquina. Cada uno disparará a una coordenada.\n",
    "Si se logra disparar en una posición de un barco del adversario, aparecerá una 'X' en el tablero del \n",
    "adversario y se podrá seguir disparando mientras se acierta. Si se dispará al agua, apracerá un '-' en \n",
    "eltablero del adversario y cambia el turno de disparar. Para ganar, se tiene que disapara a cada posición del adversario.\"\"\"\n",
    "\n",
    "# Definir los barcos con sus respectivas longitudes\n",
    "barcos = {         \"barco1\": 1, \n",
    "                   \"barco2\": 1, \n",
    "                   \"barco3\": 1, \n",
    "                   \"barco4\": 1, \n",
    "                   \"barco5\": 2, \n",
    "                   \"barco6\": 2, \n",
    "                   \"barco7\": 2, \n",
    "                   \"barco8\": 3, \n",
    "                   \"barco9\": 3, \n",
    "                   \"barco10\": 4}"
   ]
  },
  {
   "cell_type": "markdown",
   "metadata": {},
   "source": [
    "# Clases"
   ]
  },
  {
   "cell_type": "code",
   "execution_count": 3,
   "metadata": {},
   "outputs": [],
   "source": [
    "class Tablero:\n",
    "    filas = 10\n",
    "    columnas = 10\n",
    "    tablero_j01_barcos = np.full((10,10),\" \")\n",
    "    tablero_j01_nada = np.full((10,10),\" \")\n",
    "    tablero_j02_barcos = np.full((10,10),\" \")\n",
    "    tablero_j02_nada = np.full((10,10),\" \")\n",
    "\n",
    "    def __init__(self, jugador01, jugador02):\n",
    "        self.jugador01 = jugador01\n",
    "        self.jugador02 = jugador02"
   ]
  },
  {
   "cell_type": "markdown",
   "metadata": {},
   "source": [
    "# Funciones"
   ]
  },
  {
   "cell_type": "code",
   "execution_count": 4,
   "metadata": {},
   "outputs": [],
   "source": [
    "# Empezar a jugar\n",
    "def empezar_juego():\n",
    "    pregunta_01 = input(\"Hola, ¿quieres iniciar un partido?(Contesta por S [sí] o N [no])\")\n",
    "\n",
    "    if pregunta_01 == \"S\":\n",
    "        pregunta_02 = input(\"¿Cuál es tu nombre?\")\n",
    "        Tablero.jugador01 = pregunta_02\n",
    "        Tablero.jugador02 = \"oponente\"\n",
    "\n",
    "        print(regla_juego)\n",
    "\n",
    "        posicion_barco(Tablero.tablero_j01_barcos, Tablero.filas, Tablero.columnas)\n",
    "        posicion_barco(Tablero.tablero_j02_barcos, Tablero.filas, Tablero.columnas)\n",
    "        print(\"*\"*40)\n",
    "        print(\"Tablero de\", pregunta_02)\n",
    "        print(\"*\"*40)\n",
    "        print(Tablero.tablero_j01_barcos)\n",
    "        print(\"*\"*40)\n",
    "        print(\"Tablero del\", Tablero.jugador02)\n",
    "        print(\"*\"*40)\n",
    "        print(Tablero.tablero_j02_nada)\n",
    "    else:\n",
    "        print(\"¡Hasta luego!\")\n",
    "\n",
    "# Verificación posición de los barcos\n",
    "def verificar_posicion(tablero, fila, columna, longitud, direccion):\n",
    "    \"\"\"Verifica si un barco cabe en la posición dada y no se superpone.\"\"\"\n",
    "    if direccion == \"H\":  # Horizontal\n",
    "        if columna + longitud > 10:\n",
    "            return False\n",
    "        for posicion in range(longitud):\n",
    "            if tablero[fila, columna + posicion] != \" \":\n",
    "                return False\n",
    "    else:  # Vertical\n",
    "        if fila + longitud > 10:\n",
    "            return False\n",
    "        for posicion in range(longitud):\n",
    "            if tablero[fila + posicion, columna] != \" \":\n",
    "                return False\n",
    "    return True\n",
    "\n",
    "def colocar_barco(tablero, fila, columna, longitud, direccion):\n",
    "    \"\"\"Coloca un barco en el tablero en la posición dada.\"\"\"\n",
    "    if direccion == \"H\":  # Horizontal\n",
    "        for posicion in range(longitud):\n",
    "            tablero[fila, columna + posicion] = \"O\"\n",
    "    else:  # Vertical\n",
    "        for posicion in range(longitud):\n",
    "           tablero[fila + posicion, columna] = \"O\"\n",
    "           \n",
    "# Colocar los barcos\n",
    "def posicion_barco(tablero, fila, columna):\n",
    "    for barco, longitud in barcos.items():\n",
    "        colocado = False\n",
    "        while not colocado:\n",
    "            direccion = random.choice([\"H\", \"V\"])\n",
    "            fila = random.randint(0, 9)\n",
    "            columna = random.randint(0, 9)\n",
    "            if verificar_posicion(tablero, fila, columna, longitud, direccion):\n",
    "                colocar_barco(tablero, fila, columna, longitud, direccion)\n",
    "                colocado = True\n",
    "\n",
    "coordenadas_disparo = []\n",
    "\n",
    "def verif_disparar():\n",
    "    fila = int(input(\"Introduce la fila (0-9) para disparar: \"))\n",
    "    columna = int(input(\"Introduce la columna (0-9) para disparar: \"))\n",
    "    if fila >= 0 and fila <= 9 and columna >= 0 and columna <= 9:\n",
    "        coordenadas_disparo = [fila, columna]\n",
    "        print(coordenadas_disparo)\n",
    "        print(\"Coordenas válidas\")\n",
    "    else:\n",
    "         print(\"Coordenadas no válidas, intentalo de nuevo\")\n",
    "\n",
    "def disparar(tablero_vacio, tablero_oponente_barcos):\n",
    "    verif_disparar()\n",
    "    if tablero_oponente_barcos[coordenadas_disparo] == \"0\":\n",
    "        tablero_oponente_barcos[coordenadas_disparo] = \"X\"\n",
    "        tablero_vacio[coordenadas_disparo] = \"X\"\n",
    "        print(\"¡Tocado!\")\n",
    "        print(tablero_vacio)\n",
    "    elif tablero_oponente_barcos[coordenadas_disparo] == \"X\":\n",
    "        print(\"¡Ya has disparado aquí!\")\n",
    "        print(tablero_vacio)\n",
    "    else:\n",
    "        tablero_oponente_barcos[coordenadas_disparo] = \"-\"\n",
    "        tablero_vacio[coordenadas_disparo] = \"-\"\n",
    "        print(tablero_vacio)"
   ]
  }
 ],
 "metadata": {
  "kernelspec": {
   "display_name": "Python 3",
   "language": "python",
   "name": "python3"
  },
  "language_info": {
   "codemirror_mode": {
    "name": "ipython",
    "version": 3
   },
   "file_extension": ".py",
   "mimetype": "text/x-python",
   "name": "python",
   "nbconvert_exporter": "python",
   "pygments_lexer": "ipython3",
   "version": "3.12.3"
  }
 },
 "nbformat": 4,
 "nbformat_minor": 2
}
